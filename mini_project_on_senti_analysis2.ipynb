{
 "cells": [
  {
   "cell_type": "markdown",
   "id": "f4ad070b",
   "metadata": {},
   "source": [
    "# Youtube Comment Sentiment Analysis"
   ]
  },
  {
   "cell_type": "markdown",
   "id": "c44cac8e",
   "metadata": {},
   "source": [
    "## Problem Definiton"
   ]
  },
  {
   "cell_type": "markdown",
   "id": "3835143d",
   "metadata": {},
   "source": [
    "To analyze the comments of a youtube video using vader-lexion sentimental anaylsis in the nltk package by NLP."
   ]
  },
  {
   "cell_type": "markdown",
   "id": "41d7dbb8",
   "metadata": {},
   "source": [
    "# 1. Importing necessary libraries "
   ]
  },
  {
   "cell_type": "code",
   "execution_count": 1,
   "id": "8e14ee11",
   "metadata": {},
   "outputs": [],
   "source": [
    "#Libraries \n",
    "import numpy as np\n",
    "import pandas as pd \n",
    "import matplotlib.pyplot as plt\n",
    "%matplotlib inline\n",
    "import os\n",
    "\n",
    "import nltk\n",
    "from nltk.tokenize import word_tokenize\n",
    "from nltk.corpus import stopwords\n",
    "from nltk.corpus import wordnet\n",
    "from nltk.sentiment.vader import SentimentIntensityAnalyzer\n",
    "import string\n",
    "from string import punctuation\n",
    "import re"
   ]
  },
  {
   "cell_type": "markdown",
   "id": "cd5eb545",
   "metadata": {},
   "source": [
    "#  2. Data Collection"
   ]
  },
  {
   "cell_type": "code",
   "execution_count": 2,
   "id": "267bd5d7",
   "metadata": {},
   "outputs": [
    {
     "name": "stdout",
     "output_type": "stream",
     "text": [
      "Starting DataKund...\n",
      "Youtube links: https://www.youtube.com/watch?v=3u7MQz1EyPY&t=862s\n",
      "Output name: comm2\n"
     ]
    }
   ],
   "source": [
    "from youtube_comment_scraper_python import *\n",
    "import pandas as pd\n",
    "\n",
    "link = input(\"Youtube links: \")\n",
    "saved = input(\"Output name: \")\n",
    "saved = \"D:/PG/SEM IV/\" + saved"
   ]
  },
  {
   "cell_type": "code",
   "execution_count": 3,
   "id": "81f6c886",
   "metadata": {
    "scrolled": false
   },
   "outputs": [
    {
     "name": "stderr",
     "output_type": "stream",
     "text": [
      "Progress:  66%|█████████████████████████████████████████████                       | 132.6/200 [01:07<01:13,  1.09s/it]\n",
      "Progress:  69%|██████████████████████████████████████████████▉                     | 138.0/200 [01:33<03:16,  3.16s/it]\u001b[A\n",
      "Progress:  77%|████████████████████████████████████████████████████▏               | 153.4/200 [01:41<01:02,  1.34s/it]\u001b[A\n",
      "Progress:  84%|█████████████████████████████████████████████████████████▍          | 168.8/200 [01:43<00:23,  1.35it/s]\u001b[A\n",
      "Progress:  92%|██████████████████████████████████████████████████▋    | 184.20000000000002/200 [01:52<00:10,  1.54it/s]\u001b[A\n",
      "Progress: 100%|██████████████████████████████████████████████████████▉| 199.60000000000002/200 [01:54<00:00,  2.18it/s]\u001b[A\n",
      "Progress: 225.20000000000002it [01:58,  3.14it/s]                                                                      \u001b[A\n",
      "Progress: 226.8it [02:02,  2.43it/s]             ▉                                 | 102.6/200 [00:36<00:24,  3.90it/s]\u001b[A\n",
      "Progress: 228.4it [02:04,  2.17it/s]██████████████▍                                | 104.2/200 [00:40<00:33,  2.86it/s]\u001b[A\n",
      "Progress: 230.2it [02:06,  1.93it/s]██████████████▉                                | 105.8/200 [00:42<00:37,  2.50it/s]\u001b[A\n",
      "Progress: 231.8it [02:08,  1.70it/s]███████████████▌                               | 107.6/200 [00:44<00:42,  2.17it/s]\u001b[A\n",
      "Progress: 233.4it [02:10,  1.49it/s]████████████████▏                              | 109.2/200 [00:47<00:49,  1.85it/s]\u001b[A\n",
      "Progress: 236.8it [02:12,  1.52it/s]█████████████████▎                             | 112.6/200 [00:49<00:48,  1.80it/s]\u001b[A\n",
      "Progress: 238.4it [02:14,  1.33it/s]█████████████████▊                             | 114.2/200 [00:51<00:55,  1.54it/s]\u001b[A\n",
      "Progress: 240.2it [02:16,  1.21it/s]██████████████████▎                            | 115.8/200 [00:53<01:03,  1.32it/s]\u001b[A\n",
      "Progress: 241.8it [02:19,  1.09it/s]██████████████████▉                            | 117.6/200 [00:55<01:08,  1.20it/s]\u001b[A\n",
      "Progress: 243.4it [02:21,  1.00s/it]███████████████████▌                           | 119.2/200 [00:57<01:15,  1.07it/s]\u001b[A\n",
      "Progress: 245.2it [02:23,  1.05s/it]████████████████████                           | 120.8/200 [00:59<01:20,  1.02s/it]\u001b[A\n",
      "Progress: 246.8it [02:25,  1.11s/it]████████████████████▋                          | 122.6/200 [01:01<01:21,  1.05s/it]\u001b[A\n",
      "Progress: 248.4it [02:27,  1.16s/it]█████████████████████▏                         | 124.2/200 [01:03<01:25,  1.12s/it]\u001b[A\n",
      "Progress: 250.2it [02:29,  1.16s/it]█████████████████████▊                         | 125.8/200 [01:05<01:27,  1.18s/it]\u001b[A\n",
      "Progress: 253.4it [02:31,  1.06it/s]██████████████████████▉                        | 129.2/200 [01:07<01:05,  1.08it/s]\u001b[A\n",
      "Progress: 255.2it [02:33,  1.00it/s]███████████████████████▍                       | 130.8/200 [01:10<01:10,  1.01s/it]\u001b[A\n",
      "Progress:  66%|█████████████████████████████████████████████                       | 132.6/200 [01:12<01:10,  1.05s/it]\u001b[A\n",
      "\n",
      "Progress:   0%|                                                                                | 0/200 [00:00<?, ?it/s]\u001b[A\u001b[A\n",
      "Progress:  69%|██████████████████████████████████████████████▉                     | 138.0/200 [01:24<01:45,  1.69s/it]\u001b[A\n",
      "\n",
      "Progress: 260.59999999999997it [02:47,  1.84s/it]                                   | 15.4/200 [00:12<02:25,  1.27it/s]\u001b[A\u001b[A\n",
      "\n",
      "Progress: 291.4it [02:53,  1.97it/s]                                                | 30.8/200 [00:18<01:33,  1.80it/s]\u001b[A\u001b[A\n",
      "Progress:  84%|█████████████████████████████████████████████████████████▍          | 168.8/200 [01:32<00:16,  1.89it/s]\u001b[A\n",
      "\n",
      "Progress:  23%|███████████████▉                                                     | 46.2/200 [00:20<00:55,  2.77it/s]\u001b[A\u001b[A\n",
      "Progress:  92%|██████████████████████████████████████████████████▋    | 184.20000000000002/200 [01:36<00:06,  2.32it/s]\u001b[A\n",
      "\n",
      "Progress: 322.2it [02:59,  2.93it/s]█████▌                                          | 77.0/200 [00:24<00:28,  4.33it/s]\u001b[A\u001b[A\n",
      "Progress: 100%|██████████████████████████████████████████████████████▉| 199.60000000000002/200 [01:38<00:00,  3.04it/s]\u001b[A\n",
      "\n",
      "Progress: 347.79999999999995it [03:05,  3.31it/s]▉                                 | 102.6/200 [00:30<00:22,  4.25it/s]\u001b[A\u001b[A\n",
      "Progress: 225.20000000000002it [01:44,  3.44it/s]                                                                      \u001b[A\n",
      "\n",
      "Progress: 349.4it [03:10,  2.62it/s]             █▍                                | 104.2/200 [00:34<00:30,  3.17it/s]\u001b[A\u001b[A\n",
      "Progress: 226.8it [01:48,  2.62it/s]             \u001b[A\n",
      "\n",
      "Progress: 351.0it [03:12,  2.36it/s]██████████████▉                                | 105.8/200 [00:36<00:34,  2.76it/s]\u001b[A\u001b[A\n",
      "Progress: 230.2it [01:51,  2.47it/s]\u001b[A\n",
      "\n",
      "Progress: 354.4it [03:14,  2.23it/s]███████████████▌                               | 107.6/200 [00:38<00:38,  2.39it/s]\u001b[A\u001b[A\n",
      "Progress: 231.8it [01:53,  2.15it/s]\u001b[A\n",
      "\n",
      "Progress: 356.0it [03:16,  1.95it/s]████████████████▋                              | 110.8/200 [00:40<00:40,  2.21it/s]\u001b[A\u001b[A\n",
      "Progress: 233.4it [01:55,  1.86it/s]\u001b[A\n",
      "\n",
      "Progress: 357.8it [03:18,  1.72it/s]█████████████████▎                             | 112.6/200 [00:42<00:46,  1.90it/s]\u001b[A\u001b[A\n",
      "Progress: 235.2it [01:57,  1.63it/s]\u001b[A\n",
      "\n",
      "Progress: 359.40000000000003it [03:20,  1.49it/s]████▊                             | 114.2/200 [00:44<00:53,  1.61it/s]\u001b[A\u001b[A\n",
      "Progress: 236.8it [01:59,  1.42it/s]\u001b[A\n",
      "\n",
      "Progress: 361.0it [03:22,  1.30it/s]             █████▎                            | 115.8/200 [00:46<01:00,  1.39it/s]\u001b[A\u001b[A\n",
      "Progress: 240.2it [02:01,  1.48it/s]\u001b[A\n",
      "\n",
      "Progress: 364.4it [03:24,  1.39it/s]██████████████████▉                            | 117.6/200 [00:48<01:06,  1.25it/s]\u001b[A\u001b[A\n",
      "Progress: 241.8it [02:03,  1.29it/s]\u001b[A\n",
      "\n",
      "Progress: 366.0it [03:26,  1.23it/s]███████████████████▌                           | 119.2/200 [00:51<01:12,  1.11it/s]\u001b[A\u001b[A\n",
      "Progress: 243.4it [02:05,  1.14it/s]\u001b[A\n",
      "\n",
      "Progress: 367.8it [03:29,  1.12it/s]████████████████████▋                          | 122.6/200 [00:53<01:01,  1.26it/s]\u001b[A\u001b[A\n",
      "Progress: 245.2it [02:07,  1.06it/s]\u001b[A\n",
      "\n",
      "Progress: 369.40000000000003it [03:31,  1.02it/s]████████▏                         | 124.2/200 [00:55<01:08,  1.11it/s]\u001b[A\u001b[A\n",
      "Progress: 248.39999999999998it [02:09,  1.19it/s]\u001b[A\n",
      "\n",
      "Progress: 372.8it [03:33,  1.20it/s]             ████████▊                         | 125.8/200 [00:57<01:13,  1.01it/s]\u001b[A\u001b[A\n",
      "Progress: 250.2it [02:11,  1.10it/s]             \u001b[A\n",
      "\n",
      "Progress: 374.4it [03:35,  1.07it/s]██████████████████████▍                        | 127.6/200 [00:59<01:15,  1.04s/it]\u001b[A\u001b[A\n",
      "Progress: 251.79999999999998it [02:14,  1.01s/it]\u001b[A\n",
      "\n",
      "Progress: 376.0it [03:37,  1.02s/it]███████████████████████▍                       | 130.8/200 [01:01<01:00,  1.14it/s]\u001b[A\u001b[A\n",
      "Progress: 253.4it [02:16,  1.08s/it]             \u001b[A\n",
      "\n",
      "Progress:  66%|█████████████████████████████████████████████                       | 132.6/200 [01:03<01:04,  1.05it/s]\u001b[A\u001b[A\n",
      "\n",
      "\n",
      "Progress:   0%|                                                                                | 0/200 [00:00<?, ?it/s]\u001b[A\u001b[A\u001b[A\n",
      "\n",
      "\n",
      "Progress:   8%|█████▎                                                               | 15.4/200 [00:10<02:00,  1.53it/s]\u001b[A\u001b[A\u001b[A\n",
      "\n",
      "Progress: 381.4it [03:51,  1.86s/it]█████████████████████████▉                     | 138.0/200 [01:15<01:39,  1.61s/it]\u001b[A\u001b[A\n",
      "Progress: 396.79999999999995it [03:59,  1.05it/s]\n",
      "Progress: 274.2it [02:38,  1.04it/s]\u001b[A\n",
      "\n",
      "\n",
      "Progress:  23%|███████████████▉                                                     | 46.2/200 [00:20<01:03,  2.43it/s]\u001b[A\u001b[A\u001b[A\n",
      "\n",
      "Progress: 412.19999999999993it [04:01,  1.83it/s]███████████████████████▍          | 168.8/200 [01:25<00:18,  1.73it/s]\u001b[A\u001b[A\n",
      "Progress: 289.59999999999997it [02:40,  1.82it/s]\u001b[A\n",
      "Progress: 304.99999999999994it [02:48,  1.85it/s]\u001b[A\n",
      "\n",
      "\n",
      "Progress:  31%|█████████████████████▎                                               | 61.6/200 [00:30<01:08,  2.01it/s]\u001b[A\u001b[A\u001b[A\n",
      "\n",
      "Progress: 442.99999999999994it [04:11,  2.39it/s]████████████████▋    | 184.20000000000002/200 [01:36<00:09,  1.65it/s]\u001b[A\u001b[A\n",
      "Progress: 320.3999999999999it [02:50,  2.58it/s] \u001b[A\n",
      "\n",
      "\n",
      "Progress:  38%|██████████████████████████▌                                          | 77.0/200 [00:32<00:46,  2.65it/s]\u001b[A\u001b[A\u001b[A\n",
      "\n",
      "Progress: 100%|██████████████████████████████████████████████████████▉| 199.60000000000002/200 [01:38<00:00,  2.24it/s]\u001b[A\u001b[A\n",
      "Progress: 345.9999999999999it [02:56,  3.12it/s]\u001b[A\n",
      "\n",
      "\n",
      "Progress:  51%|██████████████████████████████████▉                                 | 102.6/200 [00:38<00:31,  3.14it/s]\u001b[A\u001b[A\u001b[A\n",
      "\n",
      "Progress: 468.5999999999999it [04:20,  2.61it/s]                                                                       \u001b[A\u001b[A\n",
      "\n",
      "\n",
      "Progress:  52%|███████████████████████████████████▍                                | 104.2/200 [00:42<00:38,  2.47it/s]\u001b[A\u001b[A\u001b[A\n",
      "\n",
      "Progress: 470.19999999999993it [04:24,  2.16it/s]\u001b[A\u001b[A\n",
      "Progress: 347.5999999999999it [03:03,  2.15it/s]\u001b[A\n",
      "\n",
      "\n",
      "Progress:  53%|███████████████████████████████████▉                                | 105.8/200 [00:44<00:42,  2.22it/s]\u001b[A\u001b[A\u001b[A\n",
      "\n",
      "Progress: 471.79999999999995it [04:26,  1.99it/s]\n",
      "Progress: 349.19999999999993it [03:05,  1.96it/s]\u001b[A\n",
      "\n",
      "\n",
      "Progress:  54%|████████████████████████████████████▌                               | 107.6/200 [00:46<00:46,  1.98it/s]\u001b[A\u001b[A\u001b[A\n",
      "\n",
      "Progress: 473.59999999999997it [04:28,  1.82it/s]\n",
      "Progress: 350.99999999999994it [03:07,  1.78it/s]\u001b[A\n",
      "\n",
      "Progress: 475.2it [04:30,  1.64it/s]             \n",
      "Progress: 352.59999999999997it [03:09,  1.58it/s]\u001b[A\n",
      "\n",
      "\n",
      "Progress:  55%|█████████████████████████████████████▏                              | 109.2/200 [00:51<01:02,  1.44it/s]\u001b[A\u001b[A\u001b[A\n",
      "\n",
      "Progress: 476.79999999999995it [04:32,  1.46it/s]\n",
      "Progress: 354.19999999999993it [03:11,  1.41it/s]\u001b[A\n",
      "\n",
      "\n",
      "Progress:  55%|█████████████████████████████████████▋                              | 110.8/200 [00:53<01:08,  1.31it/s]\u001b[A\u001b[A\u001b[A\n",
      "\n",
      "Progress: 478.59999999999997it [04:34,  1.33it/s]\n",
      "Progress: 355.99999999999994it [03:13,  1.27it/s]\u001b[A\n",
      "\n",
      "\n",
      "Progress:  56%|██████████████████████████████████████▎                             | 112.6/200 [00:55<01:12,  1.21it/s]\u001b[A\u001b[A\u001b[A\n",
      "\n",
      "Progress: 480.2it [04:36,  1.19it/s]             \n",
      "Progress: 357.59999999999997it [03:15,  1.14it/s]\u001b[A\n",
      "\n",
      "\n",
      "Progress:  58%|███████████████████████████████████████▎                            | 115.8/200 [00:57<01:05,  1.29it/s]\u001b[A\u001b[A\u001b[A\n",
      "\n",
      "Progress: 481.79999999999995it [04:39,  1.08it/s]\n",
      "Progress: 359.19999999999993it [03:17,  1.05it/s]\u001b[A\n",
      "\n",
      "Progress: 483.59999999999997it [04:41,  1.01it/s]\n",
      "Progress: 360.99999999999994it [03:19,  1.01s/it]\u001b[A\n",
      "\n",
      "\n",
      "Progress:  60%|████████████████████████████████████████▌                           | 119.2/200 [01:01<01:13,  1.10it/s]\u001b[A\u001b[A\u001b[A\n",
      "\n",
      "Progress: 485.2it [04:43,  1.06s/it]             \n",
      "Progress: 362.59999999999997it [03:21,  1.08s/it]\u001b[A\n",
      "\n",
      "\n",
      "Progress:  60%|█████████████████████████████████████████                           | 120.8/200 [01:03<01:17,  1.02it/s]\u001b[A\u001b[A\u001b[A\n",
      "\n",
      "Progress: 486.79999999999995it [04:45,  1.13s/it]\n",
      "Progress: 364.19999999999993it [03:24,  1.14s/it]\u001b[A\n",
      "\n",
      "\n",
      "Progress:  61%|█████████████████████████████████████████▋                          | 122.6/200 [01:05<01:18,  1.01s/it]\u001b[A\u001b[A\u001b[A\n",
      "\n",
      "Progress: 488.59999999999997it [04:47,  1.14s/it]\n",
      "Progress: 365.99999999999994it [03:26,  1.15s/it]\u001b[A\n",
      "\n",
      "\n",
      "Progress:  62%|██████████████████████████████████████████▏                         | 124.2/200 [01:07<01:21,  1.07s/it]\u001b[A\u001b[A\u001b[A\n",
      "\n",
      "Progress: 490.2it [04:49,  1.18s/it]             \n",
      "Progress: 367.59999999999997it [03:28,  1.19s/it]\u001b[A\n",
      "\n",
      "\n",
      "Progress:  63%|██████████████████████████████████████████▊                         | 125.8/200 [01:09<01:23,  1.13s/it]\u001b[A\u001b[A\u001b[A\n",
      "\n",
      "Progress: 491.79999999999995it [04:51,  1.22s/it]\n",
      "Progress: 370.99999999999994it [03:30,  1.08it/s]\u001b[A\n",
      "\n",
      "\n",
      "Progress:  64%|███████████████████████████████████████████▍                        | 127.6/200 [01:12<01:22,  1.14s/it]\u001b[A\u001b[A\u001b[A\n",
      "\n",
      "Progress: 493.59999999999997it [04:53,  1.20s/it]\n",
      "Progress: 372.5999999999999it [03:32,  1.02s/it] \u001b[A\n",
      "\n",
      "\n",
      "Progress:  65%|███████████████████████████████████████████▉                        | 129.2/200 [01:14<01:23,  1.18s/it]\u001b[A\u001b[A\u001b[A\n",
      "\n",
      "Progress: 495.19999999999993it [04:55,  1.23s/it]\u001b[A\u001b[A\n",
      "Progress: 374.19999999999993it [03:34,  1.09s/it]\u001b[A\n",
      "\n",
      "\n",
      "Progress:  65%|████████████████████████████████████████████▍                       | 130.8/200 [01:16<01:23,  1.21s/it]\u001b[A\u001b[A\u001b[A\n",
      "\n",
      "Progress: 496.79999999999995it [04:58,  1.25s/it]\u001b[A\u001b[A\n",
      "Progress: 375.9999999999999it [03:36,  1.11s/it] \u001b[A\n",
      "\n",
      "\n",
      "Progress:  66%|█████████████████████████████████████████████                       | 132.6/200 [01:18<01:20,  1.19s/it]\u001b[A\u001b[A\u001b[A"
     ]
    },
    {
     "name": "stdout",
     "output_type": "stream",
     "text": [
      "                                              Comment Likes  \\\n",
      "0   Got a question on the topic? Please share it i...    58   \n",
      "1   Thanks for the course! This is the best Power ...    66   \n",
      "2   Hi Edureka! This is a great tutorial course fo...     0   \n",
      "3   Very Good tutorial on Power BI. Could you pls ...     0   \n",
      "4            Hello edureka this is a fantastic course     1   \n",
      "5   a detailed and excellent piece of work by Edur...     6   \n",
      "6   Hello,The video is awesome and it would be muc...     1   \n",
      "7   Great job done....I have never imagined so muc...     3   \n",
      "8   Hi edureka...Thank you so much for giving the ...    21   \n",
      "9   This is amazing, so we’ll explained like alway...     2   \n",
      "10  Hi Edureka! This is a great tutorial course fo...     0   \n",
      "11  Great job Edureka! Well explained in theory as...     0   \n",
      "12  Thank you Edureka.This is so far the best Powe...     0   \n",
      "13  Thank you Edureka.This is so far the best Powe...     4   \n",
      "14  Hi edureka! This is an amazing video that you ...    10   \n",
      "15  Hello,Great tutorial on Power BI. As I am new ...     2   \n",
      "16  Hi Edureka Team ! Great Content. Could you ple...     0   \n",
      "17  Hello,Great tutorial on Power BI. As I am new ...     4   \n",
      "18  This is such a great Power BI Tutorial so far....     0   \n",
      "19  Great job Edureka! Well explained in theory as...     4   \n",
      "\n",
      "                     Time                                           UserLink  \\\n",
      "0    3 years ago (edited)  https://www.youtube.com/channel/UCkw4JCwteGrDH...   \n",
      "1             2 years ago                                                NaN   \n",
      "2              3 days ago                                                NaN   \n",
      "3              6 days ago                                                NaN   \n",
      "4              2 days ago                                                NaN   \n",
      "5   9 months ago (edited)                                                NaN   \n",
      "6           10 months ago                                                NaN   \n",
      "7             2 years ago                                                NaN   \n",
      "8           11 months ago                                                NaN   \n",
      "9              1 year ago                                                NaN   \n",
      "10            3 weeks ago                                                NaN   \n",
      "11           3 months ago                                                NaN   \n",
      "12           3 months ago                                                NaN   \n",
      "13             1 year ago                                                NaN   \n",
      "14    1 year ago (edited)                                                NaN   \n",
      "15           5 months ago                                                NaN   \n",
      "16           8 months ago                                                NaN   \n",
      "17           7 months ago                                                NaN   \n",
      "18             1 year ago                                                NaN   \n",
      "19            2 years ago                                                NaN   \n",
      "\n",
      "   user  \n",
      "0        \n",
      "1        \n",
      "2        \n",
      "3        \n",
      "4        \n",
      "5        \n",
      "6        \n",
      "7        \n",
      "8        \n",
      "9        \n",
      "10       \n",
      "11       \n",
      "12       \n",
      "13       \n",
      "14       \n",
      "15       \n",
      "16       \n",
      "17       \n",
      "18       \n",
      "19       \n"
     ]
    },
    {
     "name": "stderr",
     "output_type": "stream",
     "text": [
      "\n",
      "\n",
      "Progress: 498.5999999999999it [05:00,  1.21s/it] \n",
      "\n",
      "Progress: 322.6it [02:26,  2.21it/s]\u001b[A\u001b[A\n",
      "Progress: 565.9999999999999it [05:02,  1.87it/s]\n",
      "\n",
      "Progress: 443.39999999999986it [03:40,  2.01it/s]\u001b[A\n",
      "\n",
      "\n",
      "\n",
      "Progress: 100%|████████████████████████████████████████████████████████████████████| 200.0/200 [01:22<00:00,  2.43it/s]\u001b[A\u001b[A\u001b[A\n"
     ]
    }
   ],
   "source": [
    "youtube.open(link)\n",
    "\n",
    "response = youtube.video_comments()\n",
    "all_data = []\n",
    "for i in range(0, 3): # It will scroll 10 times\n",
    "    response = youtube.video_comments()\n",
    "    data = response['body']\n",
    "    all_data.extend(data)\n",
    "df = pd.DataFrame(data)\n",
    "print(df)"
   ]
  },
  {
   "cell_type": "code",
   "execution_count": 4,
   "id": "7ed55245",
   "metadata": {},
   "outputs": [],
   "source": [
    "df.to_csv(saved)"
   ]
  },
  {
   "cell_type": "code",
   "execution_count": 7,
   "id": "38093eaf",
   "metadata": {},
   "outputs": [],
   "source": [
    "path_txt = saved + \".txt\"\n",
    "file = open(path_txt, 'w')\n",
    "file.write(str(df))\n",
    "file.close()"
   ]
  },
  {
   "cell_type": "code",
   "execution_count": 8,
   "id": "a25d68f0",
   "metadata": {},
   "outputs": [
    {
     "name": "stdout",
     "output_type": "stream",
     "text": [
      "Index(['Comment', 'Likes', 'Time', 'UserLink', 'user'], dtype='object')\n"
     ]
    }
   ],
   "source": [
    "print(df.columns)"
   ]
  },
  {
   "cell_type": "code",
   "execution_count": 9,
   "id": "1a58dffa",
   "metadata": {},
   "outputs": [
    {
     "name": "stderr",
     "output_type": "stream",
     "text": [
      "[nltk_data] Error loading vader_lexicon: <urlopen error [Errno 11001]\n",
      "[nltk_data]     getaddrinfo failed>\n"
     ]
    },
    {
     "data": {
      "text/plain": [
       "False"
      ]
     },
     "execution_count": 9,
     "metadata": {},
     "output_type": "execute_result"
    }
   ],
   "source": [
    "nltk.download('vader_lexicon')"
   ]
  },
  {
   "cell_type": "code",
   "execution_count": 10,
   "id": "28942b49",
   "metadata": {},
   "outputs": [
    {
     "name": "stdout",
     "output_type": "stream",
     "text": [
      "D:/PG/SEM IV/comm2.csv\n"
     ]
    }
   ],
   "source": [
    "path = saved + \".csv\"\n",
    "print(path)"
   ]
  },
  {
   "cell_type": "markdown",
   "id": "d37f532a",
   "metadata": {},
   "source": [
    "# 3. Import the data for analysis"
   ]
  },
  {
   "cell_type": "code",
   "execution_count": 12,
   "id": "46f90881",
   "metadata": {},
   "outputs": [],
   "source": [
    "# reading the csv file\n",
    "# data = pd.read_csv(\"D:/PG/SEM IV/comm.csv\")\n",
    "data =df"
   ]
  },
  {
   "cell_type": "markdown",
   "id": "cf19f0db",
   "metadata": {},
   "source": [
    "# 4. Data Analysis"
   ]
  },
  {
   "cell_type": "code",
   "execution_count": 13,
   "id": "3e5a79a3",
   "metadata": {},
   "outputs": [
    {
     "name": "stdout",
     "output_type": "stream",
     "text": [
      "Index(['Comment', 'Likes', 'Time', 'UserLink', 'user'], dtype='object')\n",
      "                                             Comment Likes  \\\n",
      "0  Got a question on the topic? Please share it i...    58   \n",
      "1  Thanks for the course! This is the best Power ...    66   \n",
      "2  Hi Edureka! This is a great tutorial course fo...     0   \n",
      "3  Very Good tutorial on Power BI. Could you pls ...     0   \n",
      "4           Hello edureka this is a fantastic course     1   \n",
      "5  a detailed and excellent piece of work by Edur...     6   \n",
      "6  Hello,The video is awesome and it would be muc...     1   \n",
      "7  Great job done....I have never imagined so muc...     3   \n",
      "8  Hi edureka...Thank you so much for giving the ...    21   \n",
      "9  This is amazing, so we’ll explained like alway...     2   \n",
      "\n",
      "                    Time                                           UserLink  \\\n",
      "0   3 years ago (edited)  https://www.youtube.com/channel/UCkw4JCwteGrDH...   \n",
      "1            2 years ago                                                NaN   \n",
      "2             3 days ago                                                NaN   \n",
      "3             6 days ago                                                NaN   \n",
      "4             2 days ago                                                NaN   \n",
      "5  9 months ago (edited)                                                NaN   \n",
      "6          10 months ago                                                NaN   \n",
      "7            2 years ago                                                NaN   \n",
      "8          11 months ago                                                NaN   \n",
      "9             1 year ago                                                NaN   \n",
      "\n",
      "  user  \n",
      "0       \n",
      "1       \n",
      "2       \n",
      "3       \n",
      "4       \n",
      "5       \n",
      "6       \n",
      "7       \n",
      "8       \n",
      "9       \n"
     ]
    }
   ],
   "source": [
    "# print the column names of the dataset\n",
    "print(data.columns)\n",
    "\n",
    "# print top of the data\n",
    "print(data.head(10))"
   ]
  },
  {
   "cell_type": "code",
   "execution_count": 14,
   "id": "ebedc3eb",
   "metadata": {},
   "outputs": [
    {
     "name": "stdout",
     "output_type": "stream",
     "text": [
      "                                             Comment Likes  \\\n",
      "0  Got a question on the topic? Please share it i...    58   \n",
      "1  Thanks for the course! This is the best Power ...    66   \n",
      "2  Hi Edureka! This is a great tutorial course fo...     0   \n",
      "3  Very Good tutorial on Power BI. Could you pls ...     0   \n",
      "4           Hello edureka this is a fantastic course     1   \n",
      "\n",
      "                   Time  \n",
      "0  3 years ago (edited)  \n",
      "1           2 years ago  \n",
      "2            3 days ago  \n",
      "3            6 days ago  \n",
      "4            2 days ago  \n"
     ]
    }
   ],
   "source": [
    "data = data.drop('UserLink', axis =1)\n",
    "data = data.drop('user', axis =1)\n",
    "print(data.head())"
   ]
  },
  {
   "cell_type": "code",
   "execution_count": 15,
   "id": "45b1cb32",
   "metadata": {
    "scrolled": true
   },
   "outputs": [
    {
     "data": {
      "text/plain": [
       "Comment    20\n",
       "Likes      20\n",
       "Time       20\n",
       "dtype: int64"
      ]
     },
     "execution_count": 15,
     "metadata": {},
     "output_type": "execute_result"
    }
   ],
   "source": [
    "data.count()"
   ]
  },
  {
   "cell_type": "code",
   "execution_count": 16,
   "id": "fccba404",
   "metadata": {},
   "outputs": [],
   "source": [
    "data[\"comment_text\"] = data[\"Comment\"].copy()"
   ]
  },
  {
   "cell_type": "code",
   "execution_count": 17,
   "id": "187fef8e",
   "metadata": {
    "scrolled": true
   },
   "outputs": [
    {
     "name": "stdout",
     "output_type": "stream",
     "text": [
      "Index(['Comment', 'Likes', 'Time', 'comment_text'], dtype='object')\n"
     ]
    }
   ],
   "source": [
    "print(data.columns)"
   ]
  },
  {
   "cell_type": "code",
   "execution_count": 18,
   "id": "c48b6b5e",
   "metadata": {
    "scrolled": true
   },
   "outputs": [
    {
     "name": "stdout",
     "output_type": "stream",
     "text": [
      "                                             Comment Likes  \\\n",
      "0  Got a question on the topic? Please share it i...    58   \n",
      "1  Thanks for the course! This is the best Power ...    66   \n",
      "2  Hi Edureka! This is a great tutorial course fo...     0   \n",
      "3  Very Good tutorial on Power BI. Could you pls ...     0   \n",
      "4           Hello edureka this is a fantastic course     1   \n",
      "\n",
      "                   Time                                       comment_text  \n",
      "0  3 years ago (edited)  Got a question on the topic? Please share it i...  \n",
      "1           2 years ago  Thanks for the course! This is the best Power ...  \n",
      "2            3 days ago  Hi Edureka! This is a great tutorial course fo...  \n",
      "3            6 days ago  Very Good tutorial on Power BI. Could you pls ...  \n",
      "4            2 days ago           Hello edureka this is a fantastic course  \n"
     ]
    }
   ],
   "source": [
    "print(data.head(5))"
   ]
  },
  {
   "cell_type": "markdown",
   "id": "5b7d20fe",
   "metadata": {},
   "source": [
    "# 5. Data Preprocessing"
   ]
  },
  {
   "cell_type": "code",
   "execution_count": 19,
   "id": "b1572708",
   "metadata": {},
   "outputs": [],
   "source": [
    "stop_words = stopwords.words('english')"
   ]
  },
  {
   "cell_type": "code",
   "execution_count": 20,
   "id": "0cb18720",
   "metadata": {},
   "outputs": [],
   "source": [
    "def text_processing(text):   \n",
    "    # convert text into lowercase\n",
    "    text = text.lower()\n",
    "\n",
    "    # remove new line characters in text\n",
    "    text = re.sub(r'\\n',' ', text)\n",
    "    \n",
    "    # remove punctuations from text\n",
    "    text = re.sub('[%s]' % re.escape(punctuation), \"\", text)\n",
    "    \n",
    "    # remove references and hashtags from text\n",
    "    text = re.sub(\"^a-zA-Z0-9$,.\", \"\", text)\n",
    "    \n",
    "    # remove multiple spaces from text\n",
    "    text = re.sub(r'\\s+', ' ', text, flags=re.I)\n",
    "    \n",
    "    # remove special characters from text\n",
    "    text = re.sub(r'\\W', ' ', text)\n",
    "\n",
    "    text = ' '.join([word for word in word_tokenize(text) if word not in stop_words])\n",
    "    \n",
    "    # stemming using porter stemmer from nltk package - msh a7sn 7aga - momken: lancaster, snowball\n",
    "    # text=' '.join([porter_stemmer.stem(word) for word in word_tokenize(text)])\n",
    "    # text=' '.join([lancaster_stemmer.stem(word) for word in word_tokenize(text)])\n",
    "    # text=' '.join([snowball_stemer.stem(word) for word in word_tokenize(text)])\n",
    "    \n",
    "\n",
    "    return text\n"
   ]
  },
  {
   "cell_type": "code",
   "execution_count": 21,
   "id": "7245c372",
   "metadata": {
    "scrolled": false
   },
   "outputs": [],
   "source": [
    "for i in range(0,len(data)):\n",
    "#     data[\"comment\"] = [text_processing(i)[\"comment_text\"] for i in data['comment_text']]\n",
    "    data[\"comment_text\"][i] = text_processing(data['comment_text'][i])"
   ]
  },
  {
   "cell_type": "code",
   "execution_count": 22,
   "id": "71ad28b0",
   "metadata": {
    "scrolled": true
   },
   "outputs": [
    {
     "name": "stdout",
     "output_type": "stream",
     "text": [
      "                                             Comment Likes  \\\n",
      "0  Got a question on the topic? Please share it i...    58   \n",
      "1  Thanks for the course! This is the best Power ...    66   \n",
      "2  Hi Edureka! This is a great tutorial course fo...     0   \n",
      "3  Very Good tutorial on Power BI. Could you pls ...     0   \n",
      "4           Hello edureka this is a fantastic course     1   \n",
      "\n",
      "                   Time                                       comment_text  \n",
      "0  3 years ago (edited)  got question topic please share comment sectio...  \n",
      "1           2 years ago  thanks course best power bi course ive come ac...  \n",
      "2            3 days ago  hi edureka great tutorial course power bi begi...  \n",
      "3            6 days ago  good tutorial power bi could pls share dataset...  \n",
      "4            2 days ago                     hello edureka fantastic course  \n"
     ]
    }
   ],
   "source": [
    "print(data.head(5))"
   ]
  },
  {
   "cell_type": "markdown",
   "id": "d3e7c3dd",
   "metadata": {},
   "source": [
    "# 6. Sentiment Analysis"
   ]
  },
  {
   "cell_type": "code",
   "execution_count": 23,
   "id": "01d4dc62",
   "metadata": {
    "scrolled": false
   },
   "outputs": [
    {
     "data": {
      "text/html": [
       "<div>\n",
       "<style scoped>\n",
       "    .dataframe tbody tr th:only-of-type {\n",
       "        vertical-align: middle;\n",
       "    }\n",
       "\n",
       "    .dataframe tbody tr th {\n",
       "        vertical-align: top;\n",
       "    }\n",
       "\n",
       "    .dataframe thead th {\n",
       "        text-align: right;\n",
       "    }\n",
       "</style>\n",
       "<table border=\"1\" class=\"dataframe\">\n",
       "  <thead>\n",
       "    <tr style=\"text-align: right;\">\n",
       "      <th></th>\n",
       "      <th>Comment</th>\n",
       "      <th>Likes</th>\n",
       "      <th>Time</th>\n",
       "      <th>comment_text</th>\n",
       "      <th>Positive</th>\n",
       "      <th>Negative</th>\n",
       "      <th>Neutral</th>\n",
       "      <th>Compound</th>\n",
       "      <th>Sentiment</th>\n",
       "    </tr>\n",
       "  </thead>\n",
       "  <tbody>\n",
       "    <tr>\n",
       "      <th>0</th>\n",
       "      <td>Got a question on the topic? Please share it i...</td>\n",
       "      <td>58</td>\n",
       "      <td>3 years ago (edited)</td>\n",
       "      <td>got question topic please share comment sectio...</td>\n",
       "      <td>0.113</td>\n",
       "      <td>0.011</td>\n",
       "      <td>0.876</td>\n",
       "      <td>0.9382</td>\n",
       "      <td>Positive</td>\n",
       "    </tr>\n",
       "    <tr>\n",
       "      <th>1</th>\n",
       "      <td>Thanks for the course! This is the best Power ...</td>\n",
       "      <td>66</td>\n",
       "      <td>2 years ago</td>\n",
       "      <td>thanks course best power bi course ive come ac...</td>\n",
       "      <td>0.463</td>\n",
       "      <td>0.000</td>\n",
       "      <td>0.537</td>\n",
       "      <td>0.8591</td>\n",
       "      <td>Positive</td>\n",
       "    </tr>\n",
       "    <tr>\n",
       "      <th>2</th>\n",
       "      <td>Hi Edureka! This is a great tutorial course fo...</td>\n",
       "      <td>0</td>\n",
       "      <td>3 days ago</td>\n",
       "      <td>hi edureka great tutorial course power bi begi...</td>\n",
       "      <td>0.505</td>\n",
       "      <td>0.000</td>\n",
       "      <td>0.495</td>\n",
       "      <td>0.9231</td>\n",
       "      <td>Positive</td>\n",
       "    </tr>\n",
       "    <tr>\n",
       "      <th>3</th>\n",
       "      <td>Very Good tutorial on Power BI. Could you pls ...</td>\n",
       "      <td>0</td>\n",
       "      <td>6 days ago</td>\n",
       "      <td>good tutorial power bi could pls share dataset...</td>\n",
       "      <td>0.560</td>\n",
       "      <td>0.000</td>\n",
       "      <td>0.440</td>\n",
       "      <td>0.7845</td>\n",
       "      <td>Positive</td>\n",
       "    </tr>\n",
       "    <tr>\n",
       "      <th>4</th>\n",
       "      <td>Hello edureka this is a fantastic course</td>\n",
       "      <td>1</td>\n",
       "      <td>2 days ago</td>\n",
       "      <td>hello edureka fantastic course</td>\n",
       "      <td>0.545</td>\n",
       "      <td>0.000</td>\n",
       "      <td>0.455</td>\n",
       "      <td>0.5574</td>\n",
       "      <td>Positive</td>\n",
       "    </tr>\n",
       "  </tbody>\n",
       "</table>\n",
       "</div>"
      ],
      "text/plain": [
       "                                             Comment Likes  \\\n",
       "0  Got a question on the topic? Please share it i...    58   \n",
       "1  Thanks for the course! This is the best Power ...    66   \n",
       "2  Hi Edureka! This is a great tutorial course fo...     0   \n",
       "3  Very Good tutorial on Power BI. Could you pls ...     0   \n",
       "4           Hello edureka this is a fantastic course     1   \n",
       "\n",
       "                   Time                                       comment_text  \\\n",
       "0  3 years ago (edited)  got question topic please share comment sectio...   \n",
       "1           2 years ago  thanks course best power bi course ive come ac...   \n",
       "2            3 days ago  hi edureka great tutorial course power bi begi...   \n",
       "3            6 days ago  good tutorial power bi could pls share dataset...   \n",
       "4            2 days ago                     hello edureka fantastic course   \n",
       "\n",
       "   Positive  Negative  Neutral  Compound Sentiment  \n",
       "0     0.113     0.011    0.876    0.9382  Positive  \n",
       "1     0.463     0.000    0.537    0.8591  Positive  \n",
       "2     0.505     0.000    0.495    0.9231  Positive  \n",
       "3     0.560     0.000    0.440    0.7845  Positive  \n",
       "4     0.545     0.000    0.455    0.5574  Positive  "
      ]
     },
     "execution_count": 23,
     "metadata": {},
     "output_type": "execute_result"
    }
   ],
   "source": [
    "sentiments = SentimentIntensityAnalyzer()\n",
    "data[\"Positive\"] = [sentiments.polarity_scores(i)[\"pos\"] for i in data['comment_text']]\n",
    "data[\"Negative\"] = [sentiments.polarity_scores(i)[\"neg\"] for i in data['comment_text']]\n",
    "data[\"Neutral\"] = [sentiments.polarity_scores(i)[\"neu\"] for i in data['comment_text']]\n",
    "data['Compound'] = [sentiments.polarity_scores(i)[\"compound\"] for i in data['comment_text']]\n",
    "score = data[\"Compound\"].values\n",
    "sentiment = []\n",
    "for i in score:\n",
    "    if i >= 0.04:\n",
    "        sentiment.append('Positive')\n",
    "        \n",
    "    elif i <= -0.04:\n",
    "        sentiment.append('Negative')\n",
    "    else:\n",
    "        sentiment.append('Neutral')\n",
    "data[\"Sentiment\"] = sentiment\n",
    "data.head()"
   ]
  },
  {
   "cell_type": "code",
   "execution_count": 24,
   "id": "3c899f48",
   "metadata": {
    "scrolled": true
   },
   "outputs": [
    {
     "data": {
      "text/plain": [
       "Index(['Comment', 'Likes', 'Time', 'comment_text', 'Positive', 'Negative',\n",
       "       'Neutral', 'Compound', 'Sentiment'],\n",
       "      dtype='object')"
      ]
     },
     "execution_count": 24,
     "metadata": {},
     "output_type": "execute_result"
    }
   ],
   "source": [
    "data.columns"
   ]
  },
  {
   "cell_type": "markdown",
   "id": "0374ddd7",
   "metadata": {},
   "source": [
    "# 7. Analysing the output"
   ]
  },
  {
   "cell_type": "code",
   "execution_count": 25,
   "id": "27430208",
   "metadata": {
    "scrolled": true
   },
   "outputs": [
    {
     "name": "stdout",
     "output_type": "stream",
     "text": [
      "Index(['Positive'], dtype='object') [20]\n"
     ]
    }
   ],
   "source": [
    "count_df = data['Sentiment'].value_counts()\n",
    "count_index = count_df.index\n",
    "count_values = count_df.values\n",
    "print(count_index, count_values)"
   ]
  },
  {
   "cell_type": "code",
   "execution_count": 26,
   "id": "bd940c47",
   "metadata": {},
   "outputs": [
    {
     "data": {
      "text/plain": [
       "[20]"
      ]
     },
     "execution_count": 26,
     "metadata": {},
     "output_type": "execute_result"
    }
   ],
   "source": [
    "count_list = count_df.values.tolist()\n",
    "count_list"
   ]
  },
  {
   "cell_type": "code",
   "execution_count": 27,
   "id": "e83b6cf5",
   "metadata": {
    "scrolled": true
   },
   "outputs": [
    {
     "data": {
      "image/png": "[encoded data removed]",
      "text/plain": [
       "<Figure size 432x288 with 1 Axes>"
      ]
     },
     "metadata": {
      "needs_background": "light"
     },
     "output_type": "display_data"
    }
   ],
   "source": [
    "fig = plt.figure()\n",
    "ax = fig.add_axes([0,0,1,1])\n",
    "ax.bar(count_index,count_values)\n",
    "plt.show()"
   ]
  }
 ],
 "metadata": {
  "kernelspec": {
   "display_name": "Python 3",
   "language": "python",
   "name": "python3"
  },
  "language_info": {
   "codemirror_mode": {
    "name": "ipython",
    "version": 3
   },
   "file_extension": ".py",
   "mimetype": "text/x-python",
   "name": "python",
   "nbconvert_exporter": "python",
   "pygments_lexer": "ipython3",
   "version": "3.8.8"
  }
 },
 "nbformat": 4,
 "nbformat_minor": 5
}
